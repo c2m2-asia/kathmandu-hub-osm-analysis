{
 "cells": [
  {
   "cell_type": "markdown",
   "metadata": {},
   "source": [
    "# OSM data analysis of Guest Houses\n",
    "\n",
    "This python notebook analyses guest house data within Kathmandu. First, OSM data within a given geojson bounds is extracted using the `osmnx` package. After this, by making requests to the Overpass API, we look at the latest date at which each entity is modified. Finally, after joining these two datasets, we generate summary statisics and time series plots to understand attribute coverage and data recency."
   ]
  },
  {
   "cell_type": "code",
   "execution_count": 16,
   "metadata": {},
   "outputs": [
    {
     "name": "stderr",
     "output_type": "stream",
     "text": [
      "/home/arogya/projects/c2m2/osm_analysis/env/lib/python3.8/site-packages/ipykernel/ipkernel.py:283: DeprecationWarning: `should_run_async` will not call `transform_cell` automatically in the future. Please pass the result to `transformed_cell` argument and any exception that happen during thetransform in `preprocessing_exc_tuple` in IPython 7.17 and above.\n",
      "  and should_run_async(code)\n"
     ]
    }
   ],
   "source": [
    "import os\n",
    "import numpy as np\n",
    "import requests\n",
    "import geopandas as gpd\n",
    "import pandas as pd\n",
    "import osmnx as ox\n",
    "import matplotlib.pyplot as plt\n",
    "import matplotlib.lines as mlines\n",
    "from matplotlib.colors import ListedColormap\n",
    "\n",
    "\n",
    "boundary_file = \"kathmandu.geojson\"\n",
    "tags = {\"tourism\": \"guest_house\"}\n",
    "filename = \"guest_houses\"\n",
    "completeness_tags = [\"name\", \"stars\", \"opening_hours\", \"phone\",\"email\", \"beds\", \"rooms\"]"
   ]
  },
  {
   "cell_type": "code",
   "execution_count": 17,
   "metadata": {},
   "outputs": [],
   "source": [
    "kathmandu_valley = gpd.read_file(boundary_file)"
   ]
  },
  {
   "cell_type": "code",
   "execution_count": 18,
   "metadata": {},
   "outputs": [
    {
     "data": {
      "image/png": "[encoded data removed]",
      "text/plain": [
       "<Figure size 432x288 with 1 Axes>"
      ]
     },
     "metadata": {
      "needs_background": "light"
     },
     "output_type": "display_data"
    }
   ],
   "source": [
    "# create the plot\n",
    "kathmandu_valley.plot()\n",
    "north=kathmandu_valley.bounds['maxy'].values.item()\n",
    "south=kathmandu_valley.bounds['miny'].values.item()\n",
    "east=kathmandu_valley.bounds['maxx'].values.item()\n",
    "west=kathmandu_valley.bounds['minx'].values.item()"
   ]
  },
  {
   "cell_type": "code",
   "execution_count": 19,
   "metadata": {},
   "outputs": [
    {
     "name": "stderr",
     "output_type": "stream",
     "text": [
      "/home/arogya/projects/c2m2/osm_analysis/env/lib/python3.8/site-packages/ipykernel/ipkernel.py:283: DeprecationWarning: `should_run_async` will not call `transform_cell` automatically in the future. Please pass the result to `transformed_cell` argument and any exception that happen during thetransform in `preprocessing_exc_tuple` in IPython 7.17 and above.\n",
      "  and should_run_async(code)\n"
     ]
    },
    {
     "name": "stdout",
     "output_type": "stream",
     "text": [
      "0 __ node/354455096 __ 2015-12-01T21:18:14Z\n",
      "1 __ node/564125541 __ 2009-11-14T20:11:00Z\n",
      "2 __ node/575231594 __ 2016-08-24T14:07:30Z\n",
      "3 __ node/708987883 __ 2010-08-27T14:46:51Z\n",
      "4 __ node/990902907 __ 2010-11-16T08:37:53Z\n",
      "5 __ node/990902909 __ 2012-12-09T07:07:14Z\n",
      "6 __ node/990902912 __ 2012-10-17T07:57:58Z\n",
      "7 __ node/990902925 __ 2012-10-04T04:56:25Z\n",
      "8 __ node/1349658486 __ 2018-01-22T15:35:25Z\n",
      "9 __ node/1349680694 __ 2015-04-25T18:52:55Z\n",
      "10 __ node/1349680726 __ 2015-05-10T08:31:19Z\n",
      "11 __ node/1349697686 __ 2011-07-04T22:07:25Z\n",
      "12 __ node/1349697696 __ 2011-07-04T22:07:25Z\n",
      "13 __ node/1349697725 __ 2011-07-04T22:07:26Z\n",
      "14 __ node/1418994798 __ 2011-09-11T17:49:09Z\n",
      "15 __ node/1493239868 __ 2018-03-11T08:50:30Z\n",
      "16 __ node/1551745116 __ 2011-12-20T09:45:49Z\n",
      "17 __ node/1904311761 __ 2012-09-07T14:43:01Z\n",
      "18 __ node/1942507855 __ 2013-03-22T09:59:02Z\n",
      "19 __ node/1963991189 __ 2018-05-20T16:49:15Z\n",
      "20 __ node/1977487467 __ 2012-10-22T04:05:11Z\n",
      "21 __ node/1982425178 __ 2012-10-25T04:14:10Z\n",
      "22 __ node/2019359183 __ 2012-11-18T07:22:21Z\n",
      "23 __ node/2029494528 __ 2013-01-26T18:25:01Z\n",
      "24 __ node/2090627606 __ 2013-01-01T07:25:36Z\n",
      "25 __ node/2172675224 __ 2018-11-26T08:47:56Z\n",
      "26 __ node/2210859291 __ 2013-03-20T06:24:45Z\n",
      "27 __ node/2214458012 __ 2013-03-22T09:58:58Z\n",
      "28 __ node/2218658280 __ 2018-04-25T13:35:15Z\n",
      "29 __ node/2262423357 __ 2013-07-05T09:43:25Z\n",
      "30 __ node/2276471383 __ 2013-04-22T05:59:53Z\n",
      "31 __ node/2324993817 __ 2013-05-30T03:03:03Z\n",
      "32 __ node/2330252356 __ 2013-06-03T06:29:17Z\n",
      "33 __ node/2508829423 __ 2013-10-25T21:05:42Z\n",
      "34 __ node/3138749475 __ 2014-10-19T16:57:37Z\n",
      "35 __ node/3138768242 __ 2014-10-19T17:07:12Z\n",
      "36 __ node/3155747903 __ 2014-10-29T05:16:25Z\n",
      "37 __ node/3307481392 __ 2018-11-26T10:07:09Z\n",
      "38 __ node/3307546636 __ 2015-01-24T13:27:00Z\n",
      "39 __ node/3416542472 __ 2018-11-28T10:59:16Z\n",
      "40 __ node/3448045793 __ 2015-04-10T06:47:29Z\n",
      "41 __ node/3476798419 __ 2015-04-25T16:59:49Z\n",
      "42 __ node/3477018023 __ 2015-04-25T18:52:53Z\n",
      "43 __ node/3479634380 __ 2015-04-26T19:34:07Z\n",
      "44 __ node/3480343693 __ 2019-04-28T19:44:32Z\n",
      "45 __ node/3480344951 __ 2016-10-23T13:25:26Z\n",
      "46 __ node/3480344952 __ 2015-12-08T17:04:01Z\n",
      "47 __ node/3486820243 __ 2019-11-28T08:26:05Z\n",
      "48 __ node/3486820244 __ 2015-06-30T08:47:16Z\n",
      "49 __ node/3486820245 __ 2019-07-10T22:22:51Z\n",
      "50 __ node/3488413728 __ 2015-04-30T09:13:40Z\n",
      "51 __ node/3506712478 __ 2015-05-09T10:37:35Z\n",
      "52 __ node/3508175155 __ 2015-05-10T08:31:17Z\n",
      "53 __ node/3626541687 __ 2017-03-18T09:05:38Z\n",
      "54 __ node/3626541688 __ 2015-12-05T09:48:53Z\n",
      "55 __ node/3626551799 __ 2015-06-30T08:47:16Z\n",
      "56 __ node/3640850664 __ 2018-11-29T05:38:22Z\n",
      "57 __ node/3640898941 __ 2015-07-08T12:58:40Z\n",
      "58 __ node/3691564912 __ 2015-08-11T15:19:58Z\n",
      "59 __ node/3877763445 __ 2020-10-06T09:22:19Z\n",
      "60 __ node/3877763477 __ 2015-12-05T09:48:53Z\n",
      "61 __ node/3877763478 __ 2015-12-05T09:52:38Z\n",
      "62 __ node/3877763479 __ 2018-10-05T02:29:46Z\n",
      "63 __ node/3877763480 __ 2015-12-05T09:36:36Z\n",
      "64 __ node/3877763910 __ 2015-12-05T09:48:52Z\n",
      "65 __ node/4113062889 __ 2020-10-06T09:22:19Z\n",
      "66 __ node/4121434404 __ 2016-04-14T16:49:43Z\n",
      "67 __ node/4170922289 __ 2016-05-07T07:21:42Z\n",
      "68 __ node/4187225690 __ 2018-10-20T06:58:48Z\n",
      "69 __ node/4192187989 __ 2016-05-17T18:38:44Z\n",
      "70 __ node/4224646304 __ 2016-09-30T13:24:00Z\n",
      "71 __ node/4236730190 __ 2016-06-11T01:18:38Z\n",
      "72 __ node/4245506289 __ 2016-06-16T04:12:36Z\n",
      "73 __ node/4265554225 __ 2019-03-20T12:13:14Z\n",
      "74 __ node/4303500190 __ 2016-07-15T00:33:41Z\n",
      "75 __ node/4338250095 __ 2016-08-06T11:58:27Z\n",
      "76 __ node/4344481797 __ 2017-07-11T18:29:57Z\n",
      "77 __ node/4344952591 __ 2016-08-10T20:51:45Z\n",
      "78 __ node/4360287765 __ 2018-10-20T12:41:20Z\n",
      "79 __ node/4363076287 __ 2017-08-09T19:25:27Z\n",
      "80 __ node/4363076288 __ 2016-08-24T14:07:30Z\n",
      "81 __ node/4363076490 __ 2020-01-23T15:09:45Z\n",
      "82 __ node/4363076491 __ 2020-01-23T14:44:29Z\n",
      "83 __ node/4364127054 __ 2018-10-20T06:56:42Z\n",
      "84 __ node/4364889071 __ 2016-08-24T14:07:30Z\n",
      "85 __ node/4364889076 __ 2018-10-20T06:56:42Z\n",
      "86 __ node/4366235123 __ 2016-08-25T17:11:35Z\n",
      "87 __ node/4366618676 __ 2020-01-23T15:12:41Z\n",
      "88 __ node/4370723789 __ 2016-08-28T08:28:53Z\n",
      "89 __ node/4373094403 __ 2016-08-29T04:49:16Z\n",
      "90 __ node/4375080802 __ 2016-08-30T05:30:49Z\n",
      "91 __ node/4377379891 __ 2016-08-31T14:13:59Z\n",
      "92 __ node/4403916892 __ 2016-09-16T09:10:14Z\n",
      "93 __ node/4407893897 __ 2016-09-19T09:50:12Z\n",
      "94 __ node/4415879790 __ 2016-09-24T03:37:42Z\n",
      "95 __ node/4418021592 __ 2016-09-25T19:37:32Z\n",
      "96 __ node/4456079290 __ 2017-04-24T07:42:52Z\n",
      "97 __ node/4456577890 __ 2016-10-20T15:07:56Z\n",
      "98 __ node/4457650090 __ 2016-10-21T09:37:18Z\n",
      "99 __ node/4472309398 __ 2017-03-08T12:43:40Z\n",
      "100 __ node/4474701501 __ 2016-11-01T09:31:58Z\n",
      "101 __ node/4485151009 __ 2016-11-06T10:15:53Z\n",
      "102 __ node/4501795190 __ 2016-11-15T05:50:04Z\n",
      "103 __ node/4502554203 __ 2016-11-15T14:53:37Z\n",
      "104 __ node/4535378890 __ 2016-12-03T09:36:27Z\n",
      "105 __ node/4556342606 __ 2017-08-08T08:56:18Z\n",
      "106 __ node/4557990691 __ 2016-12-17T03:43:58Z\n",
      "107 __ node/4565847790 __ 2016-12-21T23:35:32Z\n",
      "108 __ node/4596454389 __ 2018-11-29T09:27:52Z\n",
      "109 __ node/4620330891 __ 2017-01-20T09:43:01Z\n",
      "110 __ node/4631686497 __ 2017-01-25T09:15:11Z\n",
      "111 __ node/4659334995 __ 2017-02-03T12:00:23Z\n",
      "112 __ node/4659337193 __ 2017-08-23T04:28:08Z\n",
      "113 __ node/4663324396 __ 2017-02-04T14:45:59Z\n",
      "114 __ node/4675813289 __ 2017-02-09T02:54:12Z\n",
      "115 __ node/4711181289 __ 2017-03-01T06:53:38Z\n",
      "116 __ node/4717620991 __ 2017-03-05T04:52:41Z\n",
      "117 __ node/4733827121 __ 2017-03-14T09:44:14Z\n",
      "118 __ node/4739116422 __ 2017-03-17T03:25:01Z\n",
      "119 __ node/4741955818 __ 2017-03-18T19:30:25Z\n",
      "120 __ node/4742507454 __ 2017-03-19T06:21:04Z\n",
      "121 __ node/4745088823 __ 2017-03-20T13:55:44Z\n",
      "122 __ node/4749912128 __ 2017-03-23T00:28:29Z\n",
      "123 __ node/4749912129 __ 2017-03-23T00:28:32Z\n",
      "124 __ node/4754046123 __ 2017-03-25T07:47:17Z\n",
      "125 __ node/4754155223 __ 2017-03-25T09:46:15Z\n",
      "126 __ node/4754536322 __ 2017-03-25T13:32:02Z\n",
      "127 __ node/4755616171 __ 2017-03-26T01:39:10Z\n",
      "128 __ node/4757257423 __ 2017-03-27T03:47:12Z\n",
      "129 __ node/4759447160 __ 2017-03-28T10:09:48Z\n",
      "130 __ node/4773973421 __ 2017-04-10T10:08:23Z\n",
      "131 __ node/4803257621 __ 2017-04-19T08:25:06Z\n",
      "132 __ node/4811562523 __ 2017-04-23T14:25:33Z\n",
      "133 __ node/4830851621 __ 2020-04-27T06:07:40Z\n",
      "134 __ node/4850980321 __ 2017-05-19T05:59:50Z\n",
      "135 __ node/4858673423 __ 2018-07-19T02:59:58Z\n",
      "136 __ node/4860837921 __ 2017-05-18T01:17:00Z\n",
      "137 __ node/4865414321 __ 2017-05-20T01:31:24Z\n",
      "138 __ node/4881699421 __ 2017-05-28T14:54:50Z\n",
      "139 __ node/4888287622 __ 2017-05-31T18:38:09Z\n",
      "140 __ node/4890812622 __ 2017-06-02T01:35:10Z\n",
      "141 __ node/4940224423 __ 2017-06-28T11:17:52Z\n",
      "142 __ node/4947416421 __ 2017-07-02T18:17:55Z\n",
      "143 __ node/4960167521 __ 2017-08-19T19:02:09Z\n",
      "144 __ node/4985329430 __ 2017-07-21T17:22:56Z\n",
      "145 __ node/4990566921 __ 2017-07-24T16:26:05Z\n",
      "146 __ node/5010420925 __ 2017-08-03T00:46:35Z\n",
      "147 __ node/5012644321 __ 2017-08-03T18:52:20Z\n",
      "148 __ node/5040409121 __ 2017-08-17T07:03:26Z\n",
      "149 __ node/5040811922 __ 2017-08-17T10:28:10Z\n",
      "150 __ node/5045722021 __ 2017-08-20T06:19:49Z\n",
      "151 __ node/5153340324 __ 2017-10-07T11:26:47Z\n",
      "152 __ node/5172161221 __ 2017-10-17T00:58:10Z\n",
      "153 __ node/5209550622 __ 2017-11-04T05:06:46Z\n",
      "154 __ node/5221250421 __ 2017-11-10T10:06:57Z\n",
      "155 __ node/5222562121 __ 2017-11-11T02:48:55Z\n",
      "156 __ node/5222735822 __ 2017-11-11T07:55:32Z\n",
      "157 __ node/5227714521 __ 2017-11-14T07:18:56Z\n",
      "158 __ node/5227840223 __ 2017-11-14T09:04:39Z\n",
      "159 __ node/5228573923 __ 2017-11-14T17:18:55Z\n",
      "160 __ node/5232224621 __ 2017-11-16T08:04:12Z\n",
      "161 __ node/5234829921 __ 2017-11-24T14:16:06Z\n",
      "162 __ node/5253442522 __ 2017-11-29T05:47:11Z\n",
      "163 __ node/5257511421 __ 2017-12-01T11:23:29Z\n",
      "164 __ node/5259042123 __ 2017-12-02T04:03:55Z\n",
      "165 __ node/5314807721 __ 2018-01-01T14:32:22Z\n",
      "166 __ node/5341416021 __ 2018-01-15T19:28:51Z\n",
      "167 __ node/5356244027 __ 2018-01-23T08:39:59Z\n",
      "168 __ node/5369939821 __ 2018-01-29T09:43:55Z\n",
      "169 __ node/5375650821 __ 2018-01-31T15:38:30Z\n",
      "170 __ node/5419608024 __ 2018-02-18T07:12:31Z\n",
      "171 __ node/5468790321 __ 2018-03-10T08:51:39Z\n",
      "172 __ node/5470159121 __ 2018-03-11T02:06:46Z\n",
      "173 __ node/5470209222 __ 2018-03-19T02:52:22Z\n",
      "174 __ node/5487575821 __ 2018-03-19T01:33:06Z\n",
      "175 __ node/5493717624 __ 2018-03-21T13:12:00Z\n",
      "176 __ node/5512993121 __ 2018-03-29T05:34:11Z\n"
     ]
    },
    {
     "name": "stdout",
     "output_type": "stream",
     "text": [
      "177 __ node/5528554422 __ 2018-04-04T16:44:59Z\n",
      "178 __ node/5528554621 __ 2018-04-04T16:44:58Z\n",
      "179 __ node/5568194822 __ 2018-04-21T05:56:30Z\n",
      "180 __ node/5572719478 __ 2018-04-23T06:05:31Z\n",
      "181 __ node/5583721022 __ 2018-04-28T05:42:52Z\n",
      "182 __ node/5587392022 __ 2018-04-30T04:30:27Z\n",
      "183 __ node/5587778528 __ 2018-05-02T05:39:29Z\n",
      "184 __ node/5591549124 __ 2018-05-02T05:36:52Z\n",
      "185 __ node/5591549521 __ 2018-05-02T05:37:38Z\n",
      "186 __ node/5591551421 __ 2018-05-02T05:39:35Z\n",
      "187 __ node/5592628822 __ 2019-12-23T05:45:22Z\n",
      "188 __ node/5621537322 __ 2018-05-16T08:35:44Z\n",
      "189 __ node/5623525223 __ 2018-05-17T04:41:25Z\n",
      "190 __ node/5623525224 __ 2018-05-17T04:41:27Z\n",
      "191 __ node/5623525226 __ 2018-05-17T04:41:35Z\n",
      "192 __ node/5623525321 __ 2018-05-17T04:41:17Z\n",
      "193 __ node/5623525324 __ 2018-05-17T04:41:29Z\n",
      "194 __ node/5624709022 __ 2018-05-17T14:39:26Z\n",
      "195 __ node/5659888421 __ 2018-06-03T04:07:06Z\n",
      "196 __ node/5665157021 __ 2018-06-05T01:45:21Z\n",
      "197 __ node/5665193287 __ 2018-06-05T02:38:50Z\n",
      "198 __ node/5681645321 __ 2018-06-11T09:29:35Z\n",
      "199 __ node/5682475921 __ 2018-06-11T14:46:59Z\n",
      "200 __ node/5729693521 __ 2018-06-30T07:33:25Z\n",
      "201 __ node/5752049825 __ 2018-07-10T15:32:40Z\n",
      "202 __ node/5776329453 __ 2018-07-22T05:25:57Z\n",
      "203 __ node/5794798853 __ 2018-07-30T02:17:40Z\n",
      "204 __ node/5821670754 __ 2018-11-29T05:37:19Z\n",
      "205 __ node/5862679685 __ 2018-08-28T05:43:07Z\n",
      "206 __ node/5873142387 __ 2018-09-01T13:29:16Z\n",
      "207 __ node/5875447585 __ 2018-10-27T05:40:43Z\n",
      "208 __ node/5875629086 __ 2018-09-02T13:18:33Z\n",
      "209 __ node/5912189085 __ 2018-09-17T16:38:22Z\n",
      "210 __ node/6021113418 __ 2018-10-29T03:38:28Z\n",
      "211 __ node/6022425297 __ 2018-10-30T12:33:20Z\n",
      "212 __ node/6052624185 __ 2018-11-11T12:24:51Z\n",
      "213 __ node/6064050785 __ 2018-11-15T16:04:31Z\n",
      "214 __ node/6064801285 __ 2018-11-15T21:58:18Z\n",
      "215 __ node/6077927887 __ 2018-11-21T03:43:01Z\n",
      "216 __ node/6109137186 __ 2019-05-22T06:29:34Z\n",
      "217 __ node/6183031385 __ 2019-01-04T05:27:04Z\n",
      "218 __ node/6239145785 __ 2019-01-27T06:36:27Z\n",
      "219 __ node/6255373237 __ 2019-02-03T08:54:08Z\n",
      "220 __ node/6283738285 __ 2019-02-17T04:01:31Z\n",
      "221 __ node/6291120886 __ 2019-02-20T13:18:38Z\n",
      "222 __ node/6291127285 __ 2019-02-20T13:18:37Z\n",
      "223 __ node/6291127286 __ 2019-02-20T13:18:38Z\n",
      "224 __ node/6313845285 __ 2019-03-03T09:12:04Z\n",
      "225 __ node/6313845385 __ 2019-03-03T09:12:05Z\n",
      "226 __ node/6338070085 __ 2019-03-14T15:48:24Z\n",
      "227 __ node/6366958185 __ 2019-03-28T07:32:50Z\n",
      "228 __ node/6366979693 __ 2019-03-28T07:53:35Z\n",
      "229 __ node/6398220785 __ 2019-04-11T11:21:22Z\n",
      "230 __ node/6410997085 __ 2019-04-17T07:10:01Z\n",
      "231 __ node/6417776185 __ 2019-04-20T12:31:55Z\n",
      "232 __ node/6423082385 __ 2019-04-23T11:23:15Z\n",
      "233 __ node/6433601986 __ 2019-04-28T07:15:13Z\n",
      "234 __ node/6435287285 __ 2019-04-29T06:24:48Z\n",
      "235 __ node/6460736185 __ 2019-05-09T02:36:38Z\n",
      "236 __ node/6467596686 __ 2019-05-12T08:23:52Z\n",
      "237 __ node/6467596785 __ 2019-05-12T08:23:48Z\n",
      "238 __ node/6474435186 __ 2019-05-15T04:49:11Z\n",
      "239 __ node/6489721985 __ 2019-05-22T03:43:48Z\n",
      "240 __ node/6496743285 __ 2020-05-20T11:20:06Z\n",
      "241 __ node/6499299181 __ 2019-05-25T07:59:34Z\n",
      "242 __ node/6576849424 __ 2019-06-28T14:17:52Z\n",
      "243 __ node/6577022789 __ 2019-06-28T15:49:04Z\n",
      "244 __ node/6655323687 __ 2019-07-28T16:22:05Z\n",
      "245 __ node/6659912316 __ 2020-07-25T05:53:48Z\n",
      "246 __ node/6767990385 __ 2019-09-03T01:25:33Z\n",
      "247 __ node/6769414885 __ 2019-09-03T13:16:28Z\n",
      "248 __ node/6880635685 __ 2019-10-15T06:29:12Z\n",
      "249 __ node/6896192887 __ 2019-10-18T15:24:06Z\n",
      "250 __ node/6977456385 __ 2019-11-14T17:30:01Z\n",
      "251 __ node/6991584263 __ 2019-11-20T07:00:42Z\n",
      "252 __ node/7003630985 __ 2019-11-23T05:17:19Z\n",
      "253 __ node/7092720085 __ 2019-12-29T06:35:04Z\n",
      "254 __ node/7092981685 __ 2019-12-29T10:42:03Z\n",
      "255 __ node/7173981087 __ 2020-01-31T04:05:07Z\n",
      "256 __ node/7249939493 __ 2020-02-28T11:52:37Z\n",
      "257 __ node/7271986286 __ 2020-03-06T13:28:29Z\n",
      "258 __ node/7293762785 __ 2020-03-14T05:55:39Z\n",
      "259 __ node/7345907839 __ 2020-03-30T10:21:22Z\n",
      "260 __ node/8209815986 __ 2020-12-09T14:01:31Z\n",
      "261 __ way/180767855 __ 2013-03-25T17:18:03Z\n",
      "262 __ way/200117916 __ 2013-01-14T09:43:47Z\n",
      "263 __ way/203488583 __ 2016-08-29T07:56:48Z\n",
      "264 __ way/203706859 __ 2015-09-04T09:57:08Z\n",
      "265 __ way/205183183 __ 2020-10-20T12:34:00Z\n",
      "266 __ way/205719036 __ 2013-02-16T05:41:13Z\n",
      "267 __ way/205719289 __ 2013-02-16T05:41:30Z\n",
      "268 __ way/205719816 __ 2013-02-16T05:44:02Z\n",
      "269 __ way/205719837 __ 2018-11-23T11:13:22Z\n",
      "270 __ way/205723085 __ 2014-09-18T13:00:04Z\n",
      "271 __ way/205723100 __ 2019-03-10T09:51:00Z\n",
      "272 __ way/205723301 __ 2013-02-16T06:13:33Z\n",
      "273 __ way/205723451 __ 2013-02-16T06:17:31Z\n",
      "274 __ way/205874759 __ 2014-09-18T13:00:04Z\n",
      "275 __ way/206081056 __ 2019-03-27T21:27:01Z\n",
      "276 __ way/208032607 __ 2018-12-15T16:14:11Z\n",
      "277 __ way/210266092 __ 2013-12-29T10:38:40Z\n",
      "278 __ way/215469710 __ 2013-04-04T18:35:26Z\n",
      "279 __ way/216927436 __ 2015-04-28T18:49:01Z\n",
      "280 __ way/230509129 __ 2013-12-29T10:38:39Z\n",
      "281 __ way/237650132 __ 2015-04-29T15:14:04Z\n",
      "282 __ way/240797308 __ 2014-06-16T03:12:29Z\n",
      "283 __ way/245078853 __ 2015-09-04T13:05:42Z\n",
      "284 __ way/245083388 __ 2019-01-07T14:26:40Z\n",
      "285 __ way/285870298 __ 2017-06-23T07:01:16Z\n",
      "286 __ way/295056075 __ 2014-09-13T07:54:21Z\n",
      "287 __ way/309269112 __ 2015-05-02T13:40:48Z\n",
      "288 __ way/339714940 __ 2017-01-05T04:04:15Z\n",
      "289 __ way/485367115 __ 2017-04-08T04:25:01Z\n",
      "290 __ way/511244486 __ 2017-09-02T12:51:51Z\n",
      "291 __ way/791961884 __ 2020-04-15T01:44:33Z\n"
     ]
    }
   ],
   "source": [
    "osm_data=ox.geometries_from_bbox(north, south, east, west,tags)\n",
    "timestamp = pd.DataFrame({'unique_id': [], 'timestamp': []})\n",
    "\n",
    "entitylist = osm_data['unique_id'].to_list()\n",
    "for entity in entitylist:\n",
    "    index = entitylist.index(entity)\n",
    "    overpass_url = \"http://overpass-api.de/api/interpreter\"\n",
    "    feat_type = entity.split(\"/\")[0]\n",
    "    feat_id = entity.split(\"/\")[1]\n",
    "    query = f'[out:json][timeout:25];({feat_type}({feat_id}););out meta;'\n",
    "    r = requests.get(overpass_url, params={'data': query})\n",
    "    try:\n",
    "        element = r.json()['elements'][0]\n",
    "        timestamp = timestamp.append({'unique_id': entity, 'timestamp': element['timestamp']}, ignore_index=True)\n",
    "        print(str(index) +\" __ \"+ str(entity) +\" __ \"+ element['timestamp'])\n",
    "    except:\n",
    "        print(\"Exception: \" + str(entity))\n",
    "        \n",
    "del(osm_data[\"geometry\"])\n",
    "final = pd.merge(osm_data, timestamp, how='inner', on='unique_id')        \n",
    "# final.to_csv(path_or_buf=filename, sep=\",\", index=False)"
   ]
  },
  {
   "cell_type": "markdown",
   "metadata": {},
   "source": [
    "## Tag completeness\n",
    "\n",
    "In this section, the entire OSM dataset is checked for completeness based on availability of the following standard tags (key value pairs) for hotels. In addition, a completeness score is also assigned for each individual entity based on the availaibility of the following tags.   \n",
    "\n",
    "| Information     | Key           | Value             |\n",
    "|-----------------|---------------|-------------------|\n",
    "| Infrastructure  | tourism       | guest_house             |\n",
    "| Name            | name          | Name of hotel     |\n",
    "| Number of stars | stars         | Number of stars   |\n",
    "| Opening hours   | opening_hours | Mo-Fr 10:00-17:00 |\n",
    "| Phone           | phone         | Ph no.            |\n",
    "| Email           | email         | email address     |\n",
    "| Number of beds  | beds          | number_of_beds    |\n",
    "| Number of Rooms | rooms         | number_of_rooms   |"
   ]
  },
  {
   "cell_type": "code",
   "execution_count": 20,
   "metadata": {},
   "outputs": [
    {
     "name": "stderr",
     "output_type": "stream",
     "text": [
      "/home/arogya/projects/c2m2/osm_analysis/env/lib/python3.8/site-packages/ipykernel/ipkernel.py:283: DeprecationWarning: `should_run_async` will not call `transform_cell` automatically in the future. Please pass the result to `transformed_cell` argument and any exception that happen during thetransform in `preprocessing_exc_tuple` in IPython 7.17 and above.\n",
      "  and should_run_async(code)\n"
     ]
    }
   ],
   "source": [
    "completeness = pd.DataFrame({'tag': [], 'completeness_percentage': []})\n",
    "\n",
    "total_entries = len(final)\n",
    "for tag in completeness_tags:\n",
    "    if tag in final.columns:\n",
    "        nulls = final[tag].isna().sum()  \n",
    "        completeness = completeness.append({'tag': tag,'completeness_percentage': ((total_entries - nulls)/total_entries)*100}, ignore_index=True)\n",
    "    else:\n",
    "        completeness = completeness.append({'tag': tag,'completeness_percentage': 0.0 }, ignore_index=True)\n",
    "        "
   ]
  },
  {
   "cell_type": "code",
   "execution_count": 21,
   "metadata": {},
   "outputs": [
    {
     "data": {
      "text/plain": [
       "<BarContainer object of 7 artists>"
      ]
     },
     "execution_count": 21,
     "metadata": {},
     "output_type": "execute_result"
    },
    {
     "data": {
      "image/png": "[encoded data removed]",
      "text/plain": [
       "<Figure size 432x288 with 1 Axes>"
      ]
     },
     "metadata": {
      "needs_background": "light"
     },
     "output_type": "display_data"
    }
   ],
   "source": [
    "import matplotlib.pyplot as plt \n",
    "x = completeness.tag\n",
    "y = completeness.completeness_percentage\n",
    "\n",
    "plt.xticks(rotation=90) \n",
    "plt.bar(x, y, tick_label = x, \n",
    "        width = 0.6, color = [ 'green'])"
   ]
  },
  {
   "cell_type": "code",
   "execution_count": 22,
   "metadata": {},
   "outputs": [],
   "source": [
    "completeness_scores =  pd.DataFrame({'unique_id': [], 'completeness_score': []})\n",
    "for index, row in final.iterrows():\n",
    "    total_tags = len(completeness_tags)\n",
    "    count = 0\n",
    "    \n",
    "    for tag in completeness_tags:\n",
    "        if tag in final.columns:\n",
    "            if row[tag] is None:\n",
    "                count = count\n",
    "            else:\n",
    "                count = count + 1\n",
    "    completeness_scores = completeness_scores.append({'unique_id': row.unique_id, 'completeness_score': count/total_tags}, ignore_index=True)\n",
    "\n",
    "final = pd.merge(final, completeness_scores, how='inner', on='unique_id')        \n",
    "final.to_csv(path_or_buf=filename+\".csv\", sep=\",\", index=False)\n",
    "completeness.to_csv(path_or_buf=filename+\"_completeness.csv\", sep=\",\", index=False)"
   ]
  },
  {
   "cell_type": "markdown",
   "metadata": {},
   "source": [
    "## Data recency\n",
    "\n",
    "In this section, the entire OSM dataset is checked for recency."
   ]
  },
  {
   "cell_type": "code",
   "execution_count": 23,
   "metadata": {},
   "outputs": [
    {
     "data": {
      "text/plain": [
       "<BarContainer object of 82 artists>"
      ]
     },
     "execution_count": 23,
     "metadata": {},
     "output_type": "execute_result"
    },
    {
     "data": {
      "image/png": "[encoded data removed]",
      "text/plain": [
       "<Figure size 432x288 with 1 Axes>"
      ]
     },
     "metadata": {
      "needs_background": "light"
     },
     "output_type": "display_data"
    }
   ],
   "source": [
    "final.timestamp = pd.to_datetime(final.timestamp)\n",
    "final['YearMonth'] =final['timestamp'].apply(lambda x: '{year}-{month}'.format(year=x.year, month=x.month))\n",
    "# final.groupby('YearMonth')\n",
    "counts = final.value_counts(subset=['YearMonth']).rename_axis('unique_values').reset_index(name='counts')\n",
    "counts = counts.sort_values(by=\"unique_values\")\n",
    "counts.to_csv(path_or_buf=filename+\"_counts.csv\", sep=\",\", index=False)\n",
    "\n",
    "x = counts.unique_values\n",
    "y = counts.counts\n",
    "\n",
    "plt.xticks(rotation=90) \n",
    "plt.bar(x, y, tick_label = x, \n",
    "        width = 0.6, color = [ 'green'])"
   ]
  },
  {
   "cell_type": "code",
   "execution_count": 24,
   "metadata": {},
   "outputs": [
    {
     "data": {
      "text/plain": [
       "<BarContainer object of 12 artists>"
      ]
     },
     "execution_count": 24,
     "metadata": {},
     "output_type": "execute_result"
    },
    {
     "data": {
      "image/png": "[encoded data removed]",
      "text/plain": [
       "<Figure size 432x288 with 1 Axes>"
      ]
     },
     "metadata": {
      "needs_background": "light"
     },
     "output_type": "display_data"
    }
   ],
   "source": [
    "final.timestamp = pd.to_datetime(final.timestamp)\n",
    "final['Year'] = final['timestamp'].apply(lambda x: '{year}'.format(year=x.year))\n",
    "# final.groupby('YearMonth')\n",
    "\n",
    "year_counts = final.value_counts(subset=['Year']).rename_axis('unique_values').reset_index(name='counts')\n",
    "year_counts = year_counts.sort_values(by=\"unique_values\")\n",
    "\n",
    "\n",
    "x = year_counts.unique_values\n",
    "y = year_counts.counts\n",
    "\n",
    "\n",
    "plt.xticks(rotation=90) \n",
    "plt.bar(x, y, tick_label = x, \n",
    "        width = 0.6, color = [ 'green'])"
   ]
  }
 ],
 "metadata": {
  "kernelspec": {
   "display_name": "Python 3",
   "language": "python",
   "name": "python3"
  },
  "language_info": {
   "codemirror_mode": {
    "name": "ipython",
    "version": 3
   },
   "file_extension": ".py",
   "mimetype": "text/x-python",
   "name": "python",
   "nbconvert_exporter": "python",
   "pygments_lexer": "ipython3",
   "version": "3.8.5"
  }
 },
 "nbformat": 4,
 "nbformat_minor": 4
}
