{
 "cells": [
  {
   "cell_type": "markdown",
   "metadata": {},
   "source": [
    "# OSM data analysis of nightclubs\n",
    "\n",
    "This python notebook analyses night club data within Kathmandu. First, OSM data within a given geojson bounds is extracted using the `osmnx` package. After this, by making requests to the Overpass API, we look at the latest date at which each entity is modified. Finally, after joining these two datasets, we generate summary statisics and time series plots to understand attribute coverage and data recency."
   ]
  },
  {
   "cell_type": "code",
   "execution_count": 1,
   "metadata": {},
   "outputs": [],
   "source": [
    "import os\n",
    "import numpy as np\n",
    "import requests\n",
    "import geopandas as gpd\n",
    "import pandas as pd\n",
    "import osmnx as ox\n",
    "import matplotlib.pyplot as plt\n",
    "import matplotlib.lines as mlines\n",
    "from matplotlib.colors import ListedColormap\n",
    "\n",
    "\n",
    "boundary_file = \"kathmandu.geojson\"\n",
    "tags = {\"amenity\": \"nightclub\"}\n",
    "filename = \"nightclub\"\n",
    "completeness_tags = [\"name\", \"opening_hours\", \"phone\",\"email\"]"
   ]
  },
  {
   "cell_type": "code",
   "execution_count": 2,
   "metadata": {},
   "outputs": [],
   "source": [
    "kathmandu_valley = gpd.read_file(boundary_file)"
   ]
  },
  {
   "cell_type": "code",
   "execution_count": 3,
   "metadata": {},
   "outputs": [
    {
     "data": {
      "image/png": "[encoded data removed]",
      "text/plain": [
       "<Figure size 432x288 with 1 Axes>"
      ]
     },
     "metadata": {
      "needs_background": "light"
     },
     "output_type": "display_data"
    }
   ],
   "source": [
    "# create the plot\n",
    "kathmandu_valley.plot()\n",
    "north=kathmandu_valley.bounds['maxy'].values.item()\n",
    "south=kathmandu_valley.bounds['miny'].values.item()\n",
    "east=kathmandu_valley.bounds['maxx'].values.item()\n",
    "west=kathmandu_valley.bounds['minx'].values.item()"
   ]
  },
  {
   "cell_type": "code",
   "execution_count": 4,
   "metadata": {},
   "outputs": [
    {
     "name": "stdout",
     "output_type": "stream",
     "text": [
      "0 __ node/1964968475 __ 2013-02-21T12:00:26Z\n",
      "1 __ node/3095840822 __ 2020-03-04T06:03:35Z\n",
      "2 __ node/3341634377 __ 2020-05-11T18:03:27Z\n",
      "3 __ node/3632902993 __ 2015-07-17T06:44:17Z\n",
      "4 __ node/4406793090 __ 2016-09-18T13:06:03Z\n",
      "5 __ node/4767236868 __ 2020-05-08T12:32:23Z\n",
      "6 __ node/4767787443 __ 2017-03-31T17:06:51Z\n",
      "7 __ node/4767787531 __ 2017-04-04T04:02:59Z\n",
      "8 __ node/6239145885 __ 2019-01-27T06:36:28Z\n"
     ]
    }
   ],
   "source": [
    "osm_data=ox.geometries_from_bbox(north, south, east, west,tags)\n",
    "timestamp = pd.DataFrame({'unique_id': [], 'timestamp': []})\n",
    "\n",
    "entitylist = osm_data['unique_id'].to_list()\n",
    "for entity in entitylist:\n",
    "    index = entitylist.index(entity)\n",
    "    overpass_url = \"http://overpass-api.de/api/interpreter\"\n",
    "    feat_type = entity.split(\"/\")[0]\n",
    "    feat_id = entity.split(\"/\")[1]\n",
    "    query = f'[out:json][timeout:25];({feat_type}({feat_id}););out meta;'\n",
    "    r = requests.get(overpass_url, params={'data': query})\n",
    "    try:\n",
    "        element = r.json()['elements'][0]\n",
    "        timestamp = timestamp.append({'unique_id': entity, 'timestamp': element['timestamp']}, ignore_index=True)\n",
    "        print(str(index) +\" __ \"+ str(entity) +\" __ \"+ element['timestamp'])\n",
    "    except:\n",
    "        print(\"Exception: \" + str(entity))\n",
    "        \n",
    "del(osm_data[\"geometry\"])\n",
    "final = pd.merge(osm_data, timestamp, how='inner', on='unique_id')        \n",
    "# final.to_csv(path_or_buf=filename, sep=\",\", index=False)"
   ]
  },
  {
   "cell_type": "markdown",
   "metadata": {},
   "source": [
    "## Tag completeness\n",
    "\n",
    "In this section, the entire OSM dataset is checked for completeness based on availability of the following standard tags (key value pairs) for hotels. In addition, a completeness score is also assigned for each individual entity based on the availaibility of the following tags.   \n",
    "\n",
    "| Information     | Key           | Value             |\n",
    "|-----------------|---------------|-------------------|\n",
    "| Infrastructure  | amenity       | cafe              |\n",
    "| Name            | name          | Name of hotel     |\n",
    "| Opening hours   | opening_hours | Mo-Fr 10:00-17:00 |\n",
    "| Phone           | phone         | Ph no.            |\n",
    "| Email           | email         | email address     |\n"
   ]
  },
  {
   "cell_type": "code",
   "execution_count": 5,
   "metadata": {},
   "outputs": [
    {
     "name": "stderr",
     "output_type": "stream",
     "text": [
      "/home/arogya/projects/c2m2/osm_analysis/env/lib/python3.8/site-packages/ipykernel/ipkernel.py:283: DeprecationWarning: `should_run_async` will not call `transform_cell` automatically in the future. Please pass the result to `transformed_cell` argument and any exception that happen during thetransform in `preprocessing_exc_tuple` in IPython 7.17 and above.\n",
      "  and should_run_async(code)\n"
     ]
    }
   ],
   "source": [
    "completeness = pd.DataFrame({'tag': [], 'completeness_percentage': []})\n",
    "\n",
    "total_entries = len(final)\n",
    "for tag in completeness_tags:\n",
    "    if tag in final.columns:\n",
    "        nulls = final[tag].isna().sum()  \n",
    "        completeness = completeness.append({'tag': tag,'completeness_percentage': ((total_entries - nulls)/total_entries)*100}, ignore_index=True)\n",
    "    else:\n",
    "        completeness = completeness.append({'tag': tag,'completeness_percentage': 0.0 }, ignore_index=True)\n",
    "        "
   ]
  },
  {
   "cell_type": "code",
   "execution_count": 6,
   "metadata": {},
   "outputs": [
    {
     "data": {
      "text/plain": [
       "<BarContainer object of 4 artists>"
      ]
     },
     "execution_count": 6,
     "metadata": {},
     "output_type": "execute_result"
    },
    {
     "data": {
      "image/png": "[encoded data removed]",
      "text/plain": [
       "<Figure size 432x288 with 1 Axes>"
      ]
     },
     "metadata": {
      "needs_background": "light"
     },
     "output_type": "display_data"
    }
   ],
   "source": [
    "import matplotlib.pyplot as plt \n",
    "x = completeness.tag\n",
    "y = completeness.completeness_percentage\n",
    "\n",
    "plt.xticks(rotation=90) \n",
    "plt.bar(x, y, tick_label = x, \n",
    "        width = 0.6, color = [ 'green'])"
   ]
  },
  {
   "cell_type": "code",
   "execution_count": 7,
   "metadata": {},
   "outputs": [],
   "source": [
    "completeness_scores =  pd.DataFrame({'unique_id': [], 'completeness_score': []})\n",
    "for index, row in final.iterrows():\n",
    "    total_tags = len(completeness_tags)\n",
    "    count = 0\n",
    "    \n",
    "    for tag in completeness_tags:\n",
    "        if tag in final.columns:\n",
    "            if row[tag] is None:\n",
    "                count = count\n",
    "            else:\n",
    "                count = count + 1\n",
    "    completeness_scores = completeness_scores.append({'unique_id': row.unique_id, 'completeness_score': count/total_tags}, ignore_index=True)\n",
    "\n",
    "final = pd.merge(final, completeness_scores, how='inner', on='unique_id')        \n",
    "final.to_csv(path_or_buf=filename+\".csv\", sep=\",\", index=False)\n",
    "completeness.to_csv(path_or_buf=filename+\"_completeness.csv\", sep=\",\", index=False)"
   ]
  },
  {
   "cell_type": "markdown",
   "metadata": {},
   "source": [
    "## Data recency\n",
    "\n",
    "In this section, the entire OSM dataset is checked for recency."
   ]
  },
  {
   "cell_type": "code",
   "execution_count": 8,
   "metadata": {},
   "outputs": [
    {
     "data": {
      "text/plain": [
       "<BarContainer object of 8 artists>"
      ]
     },
     "execution_count": 8,
     "metadata": {},
     "output_type": "execute_result"
    },
    {
     "data": {
      "image/png": "[encoded data removed]",
      "text/plain": [
       "<Figure size 432x288 with 1 Axes>"
      ]
     },
     "metadata": {
      "needs_background": "light"
     },
     "output_type": "display_data"
    }
   ],
   "source": [
    "final.timestamp = pd.to_datetime(final.timestamp)\n",
    "final['YearMonth'] =final['timestamp'].apply(lambda x: '{year}-{month}'.format(year=x.year, month=x.month))\n",
    "# final.groupby('YearMonth')\n",
    "counts = final.value_counts(subset=['YearMonth']).rename_axis('unique_values').reset_index(name='counts')\n",
    "counts = counts.sort_values(by=\"unique_values\")\n",
    "counts.to_csv(path_or_buf=filename+\"_counts.csv\", sep=\",\", index=False)\n",
    "\n",
    "x = counts.unique_values\n",
    "y = counts.counts\n",
    "\n",
    "plt.xticks(rotation=90) \n",
    "plt.bar(x, y, tick_label = x, \n",
    "        width = 0.6, color = [ 'green'])"
   ]
  },
  {
   "cell_type": "code",
   "execution_count": 9,
   "metadata": {},
   "outputs": [
    {
     "data": {
      "text/plain": [
       "<BarContainer object of 6 artists>"
      ]
     },
     "execution_count": 9,
     "metadata": {},
     "output_type": "execute_result"
    },
    {
     "data": {
      "image/png": "[encoded data removed]",
      "text/plain": [
       "<Figure size 432x288 with 1 Axes>"
      ]
     },
     "metadata": {
      "needs_background": "light"
     },
     "output_type": "display_data"
    }
   ],
   "source": [
    "final.timestamp = pd.to_datetime(final.timestamp)\n",
    "final['Year'] = final['timestamp'].apply(lambda x: '{year}'.format(year=x.year))\n",
    "# final.groupby('YearMonth')\n",
    "\n",
    "year_counts = final.value_counts(subset=['Year']).rename_axis('unique_values').reset_index(name='counts')\n",
    "year_counts = year_counts.sort_values(by=\"unique_values\")\n",
    "\n",
    "\n",
    "x = year_counts.unique_values\n",
    "y = year_counts.counts\n",
    "\n",
    "\n",
    "plt.xticks(rotation=90) \n",
    "plt.bar(x, y, tick_label = x, \n",
    "        width = 0.6, color = [ 'green'])"
   ]
  }
 ],
 "metadata": {
  "kernelspec": {
   "display_name": "Python 3",
   "language": "python",
   "name": "python3"
  },
  "language_info": {
   "codemirror_mode": {
    "name": "ipython",
    "version": 3
   },
   "file_extension": ".py",
   "mimetype": "text/x-python",
   "name": "python",
   "nbconvert_exporter": "python",
   "pygments_lexer": "ipython3",
   "version": "3.8.5"
  }
 },
 "nbformat": 4,
 "nbformat_minor": 4
}
