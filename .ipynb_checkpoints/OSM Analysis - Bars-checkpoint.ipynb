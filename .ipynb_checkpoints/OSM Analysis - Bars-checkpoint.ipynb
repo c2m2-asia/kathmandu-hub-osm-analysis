{
 "cells": [
  {
   "cell_type": "markdown",
   "metadata": {},
   "source": [
    "# OSM data analysis of bars\n",
    "\n",
    "This python notebook analyses bar data within Kathmandu. First, OSM data within a given geojson bounds is extracted using the `osmnx` package. After this, by making requests to the Overpass API, we look at the latest date at which each entity is modified. Finally, after joining these two datasets, we generate summary statisics and time series plots to understand attribute coverage and data recency."
   ]
  },
  {
   "cell_type": "code",
   "execution_count": 1,
   "metadata": {},
   "outputs": [],
   "source": [
    "import os\n",
    "import numpy as np\n",
    "import requests\n",
    "import geopandas as gpd\n",
    "import pandas as pd\n",
    "import osmnx as ox\n",
    "import matplotlib.pyplot as plt\n",
    "import matplotlib.lines as mlines\n",
    "from matplotlib.colors import ListedColormap\n",
    "\n",
    "\n",
    "boundary_file = \"kathmandu.geojson\"\n",
    "tags = {\"amenity\": \"bar\"}\n",
    "filename = \"bar\"\n",
    "completeness_tags = [\"name\", \"opening_hours\", \"phone\",\"email\"]"
   ]
  },
  {
   "cell_type": "code",
   "execution_count": 2,
   "metadata": {},
   "outputs": [],
   "source": [
    "kathmandu_valley = gpd.read_file(boundary_file)"
   ]
  },
  {
   "cell_type": "code",
   "execution_count": 3,
   "metadata": {},
   "outputs": [
    {
     "data": {
      "image/png": "[encoded data removed]",
      "text/plain": [
       "<Figure size 432x288 with 1 Axes>"
      ]
     },
     "metadata": {
      "needs_background": "light"
     },
     "output_type": "display_data"
    }
   ],
   "source": [
    "# create the plot\n",
    "kathmandu_valley.plot()\n",
    "north=kathmandu_valley.bounds['maxy'].values.item()\n",
    "south=kathmandu_valley.bounds['miny'].values.item()\n",
    "east=kathmandu_valley.bounds['maxx'].values.item()\n",
    "west=kathmandu_valley.bounds['minx'].values.item()"
   ]
  },
  {
   "cell_type": "code",
   "execution_count": 4,
   "metadata": {},
   "outputs": [
    {
     "name": "stdout",
     "output_type": "stream",
     "text": [
      "0 __ node/1892815646 __ 2015-02-15T17:17:02Z\n",
      "1 __ node/2002392575 __ 2012-11-08T10:28:05Z\n",
      "2 __ node/2684769719 __ 2014-02-22T09:31:13Z\n",
      "3 __ node/3331703762 __ 2015-02-05T11:41:33Z\n",
      "4 __ node/3416542473 __ 2020-11-27T21:04:25Z\n",
      "5 __ node/3448046467 __ 2017-08-22T04:42:28Z\n",
      "6 __ node/3605488689 __ 2015-06-19T16:02:25Z\n",
      "7 __ node/4012267067 __ 2016-02-18T08:48:20Z\n",
      "8 __ node/4104026289 __ 2016-04-19T16:43:08Z\n",
      "9 __ node/4327597890 __ 2019-03-27T21:25:54Z\n",
      "10 __ node/4477409493 __ 2016-11-02T18:04:34Z\n",
      "11 __ node/4527629090 __ 2017-02-11T14:05:48Z\n",
      "12 __ node/4555545492 __ 2016-12-15T13:45:31Z\n",
      "13 __ node/4665021794 __ 2017-03-13T08:15:28Z\n",
      "14 __ node/4675917591 __ 2017-02-09T05:27:10Z\n",
      "15 __ node/4697090889 __ 2017-02-21T10:46:14Z\n",
      "16 __ node/4762401054 __ 2017-03-29T17:34:06Z\n",
      "17 __ node/4774872364 __ 2017-04-04T14:22:45Z\n",
      "18 __ node/4774887621 __ 2017-04-04T14:10:59Z\n",
      "19 __ node/4815643023 __ 2017-04-25T13:40:39Z\n",
      "20 __ node/4830990522 __ 2018-11-21T07:09:35Z\n",
      "21 __ node/4858983921 __ 2017-05-17T05:54:12Z\n",
      "22 __ node/4924452317 __ 2017-06-20T05:36:10Z\n",
      "23 __ node/4924452521 __ 2017-06-29T04:31:23Z\n",
      "24 __ node/5062666626 __ 2017-08-27T19:08:47Z\n",
      "25 __ node/5064141221 __ 2017-08-28T12:52:58Z\n",
      "26 __ node/5066973421 __ 2017-08-29T16:17:47Z\n",
      "27 __ node/5080625421 __ 2017-09-05T02:38:30Z\n",
      "28 __ node/5107792731 __ 2017-09-15T16:32:55Z\n",
      "29 __ node/5126206947 __ 2017-09-25T04:04:05Z\n",
      "30 __ node/5169018622 __ 2017-10-15T13:16:57Z\n",
      "31 __ node/5180218321 __ 2017-10-21T15:09:43Z\n",
      "32 __ node/5199608421 __ 2017-10-30T08:10:09Z\n",
      "33 __ node/5209508125 __ 2017-11-04T05:06:47Z\n",
      "34 __ node/5273548621 __ 2018-12-09T05:49:36Z\n",
      "35 __ node/5277649721 __ 2020-12-15T15:02:45Z\n",
      "36 __ node/5342739024 __ 2018-01-16T11:54:16Z\n",
      "37 __ node/5342739025 __ 2018-01-16T11:54:17Z\n",
      "38 __ node/5351390922 __ 2018-01-20T17:46:39Z\n",
      "39 __ node/5498800021 __ 2018-03-23T12:09:10Z\n",
      "40 __ node/5539196621 __ 2018-04-09T04:40:04Z\n",
      "41 __ node/5561517527 __ 2019-03-24T03:33:55Z\n",
      "42 __ node/5564275225 __ 2018-04-19T12:26:29Z\n",
      "43 __ node/5630201621 __ 2018-05-20T10:09:23Z\n",
      "44 __ node/5931153085 __ 2018-11-12T09:26:22Z\n",
      "45 __ node/6031122715 __ 2018-11-02T03:25:00Z\n",
      "46 __ node/6068079288 __ 2019-01-07T18:46:52Z\n",
      "47 __ node/6078491985 __ 2018-11-21T08:30:57Z\n",
      "48 __ node/6198687485 __ 2019-01-10T15:16:26Z\n",
      "49 __ node/6231328428 __ 2019-01-23T23:30:42Z\n",
      "50 __ node/6324433886 __ 2019-03-08T01:39:14Z\n",
      "51 __ node/6396390986 __ 2019-04-10T13:48:50Z\n",
      "52 __ node/6399945585 __ 2019-04-12T05:30:10Z\n",
      "53 __ node/6459130787 __ 2019-05-08T16:44:04Z\n",
      "54 __ node/6596476992 __ 2019-07-08T13:22:18Z\n",
      "55 __ node/7173977787 __ 2020-01-31T04:05:04Z\n",
      "56 __ node/7176778585 __ 2020-02-01T08:38:54Z\n",
      "57 __ node/7291571085 __ 2020-03-13T11:30:09Z\n",
      "58 __ node/7314440085 __ 2020-03-21T06:10:02Z\n",
      "59 __ node/7730897991 __ 2020-07-20T10:54:15Z\n",
      "60 __ node/7817062283 __ 2020-08-16T11:18:32Z\n",
      "61 __ way/178915318 __ 2015-09-04T12:33:18Z\n",
      "62 __ way/204881928 __ 2020-03-30T10:51:33Z\n"
     ]
    }
   ],
   "source": [
    "osm_data=ox.geometries_from_bbox(north, south, east, west,tags)\n",
    "timestamp = pd.DataFrame({'unique_id': [], 'timestamp': []})\n",
    "\n",
    "entitylist = osm_data['unique_id'].to_list()\n",
    "for entity in entitylist:\n",
    "    index = entitylist.index(entity)\n",
    "    overpass_url = \"http://overpass-api.de/api/interpreter\"\n",
    "    feat_type = entity.split(\"/\")[0]\n",
    "    feat_id = entity.split(\"/\")[1]\n",
    "    query = f'[out:json][timeout:25];({feat_type}({feat_id}););out meta;'\n",
    "    r = requests.get(overpass_url, params={'data': query})\n",
    "    try:\n",
    "        element = r.json()['elements'][0]\n",
    "        timestamp = timestamp.append({'unique_id': entity, 'timestamp': element['timestamp']}, ignore_index=True)\n",
    "        print(str(index) +\" __ \"+ str(entity) +\" __ \"+ element['timestamp'])\n",
    "    except:\n",
    "        print(\"Exception: \" + str(entity))\n",
    "        \n",
    "del(osm_data[\"geometry\"])\n",
    "final = pd.merge(osm_data, timestamp, how='inner', on='unique_id')        \n",
    "# final.to_csv(path_or_buf=filename, sep=\",\", index=False)"
   ]
  },
  {
   "cell_type": "markdown",
   "metadata": {},
   "source": [
    "## Tag completeness\n",
    "\n",
    "In this section, the entire OSM dataset is checked for completeness based on availability of the following standard tags (key value pairs) for hotels. In addition, a completeness score is also assigned for each individual entity based on the availaibility of the following tags.   \n",
    "\n",
    "| Information     | Key           | Value             |\n",
    "|-----------------|---------------|-------------------|\n",
    "| Infrastructure  | amenity       | cafe              |\n",
    "| Name            | name          | Name of hotel     |\n",
    "| Opening hours   | opening_hours | Mo-Fr 10:00-17:00 |\n",
    "| Phone           | phone         | Ph no.            |\n",
    "| Email           | email         | email address     |\n"
   ]
  },
  {
   "cell_type": "code",
   "execution_count": 5,
   "metadata": {},
   "outputs": [
    {
     "name": "stderr",
     "output_type": "stream",
     "text": [
      "/home/arogya/projects/c2m2/osm_analysis/env/lib/python3.8/site-packages/ipykernel/ipkernel.py:283: DeprecationWarning: `should_run_async` will not call `transform_cell` automatically in the future. Please pass the result to `transformed_cell` argument and any exception that happen during thetransform in `preprocessing_exc_tuple` in IPython 7.17 and above.\n",
      "  and should_run_async(code)\n"
     ]
    }
   ],
   "source": [
    "completeness = pd.DataFrame({'tag': [], 'completeness_percentage': []})\n",
    "\n",
    "total_entries = len(final)\n",
    "for tag in completeness_tags:\n",
    "    if tag in final.columns:\n",
    "        nulls = final[tag].isna().sum()  \n",
    "        completeness = completeness.append({'tag': tag,'completeness_percentage': ((total_entries - nulls)/total_entries)*100}, ignore_index=True)\n",
    "    else:\n",
    "        completeness = completeness.append({'tag': tag,'completeness_percentage': 0.0 }, ignore_index=True)\n",
    "        "
   ]
  },
  {
   "cell_type": "code",
   "execution_count": 6,
   "metadata": {},
   "outputs": [
    {
     "data": {
      "text/plain": [
       "<BarContainer object of 4 artists>"
      ]
     },
     "execution_count": 6,
     "metadata": {},
     "output_type": "execute_result"
    },
    {
     "data": {
      "image/png": "[encoded data removed]",
      "text/plain": [
       "<Figure size 432x288 with 1 Axes>"
      ]
     },
     "metadata": {
      "needs_background": "light"
     },
     "output_type": "display_data"
    }
   ],
   "source": [
    "import matplotlib.pyplot as plt \n",
    "x = completeness.tag\n",
    "y = completeness.completeness_percentage\n",
    "\n",
    "plt.xticks(rotation=90) \n",
    "plt.bar(x, y, tick_label = x, \n",
    "        width = 0.6, color = [ 'green'])"
   ]
  },
  {
   "cell_type": "code",
   "execution_count": 7,
   "metadata": {},
   "outputs": [],
   "source": [
    "completeness_scores =  pd.DataFrame({'unique_id': [], 'completeness_score': []})\n",
    "for index, row in final.iterrows():\n",
    "    total_tags = len(completeness_tags)\n",
    "    count = 0\n",
    "    \n",
    "    for tag in completeness_tags:\n",
    "        if tag in final.columns:\n",
    "            if row[tag] is None:\n",
    "                count = count\n",
    "            else:\n",
    "                count = count + 1\n",
    "    completeness_scores = completeness_scores.append({'unique_id': row.unique_id, 'completeness_score': count/total_tags}, ignore_index=True)\n",
    "\n",
    "final = pd.merge(final, completeness_scores, how='inner', on='unique_id')        \n",
    "final.to_csv(path_or_buf=filename+\".csv\", sep=\",\", index=False)\n",
    "completeness.to_csv(path_or_buf=filename+\"_completeness.csv\", sep=\",\", index=False)"
   ]
  },
  {
   "cell_type": "markdown",
   "metadata": {},
   "source": [
    "## Data recency\n",
    "\n",
    "In this section, the entire OSM dataset is checked for recency."
   ]
  },
  {
   "cell_type": "code",
   "execution_count": 8,
   "metadata": {},
   "outputs": [
    {
     "data": {
      "text/plain": [
       "<BarContainer object of 36 artists>"
      ]
     },
     "execution_count": 8,
     "metadata": {},
     "output_type": "execute_result"
    },
    {
     "data": {
      "image/png": "[encoded data removed]",
      "text/plain": [
       "<Figure size 432x288 with 1 Axes>"
      ]
     },
     "metadata": {
      "needs_background": "light"
     },
     "output_type": "display_data"
    }
   ],
   "source": [
    "final.timestamp = pd.to_datetime(final.timestamp)\n",
    "final['YearMonth'] =final['timestamp'].apply(lambda x: '{year}-{month}'.format(year=x.year, month=x.month))\n",
    "# final.groupby('YearMonth')\n",
    "counts = final.value_counts(subset=['YearMonth']).rename_axis('unique_values').reset_index(name='counts')\n",
    "counts = counts.sort_values(by=\"unique_values\")\n",
    "counts.to_csv(path_or_buf=filename+\"_counts.csv\", sep=\",\", index=False)\n",
    "\n",
    "x = counts.unique_values\n",
    "y = counts.counts\n",
    "\n",
    "plt.xticks(rotation=90) \n",
    "plt.bar(x, y, tick_label = x, \n",
    "        width = 0.6, color = [ 'green'])"
   ]
  },
  {
   "cell_type": "code",
   "execution_count": 9,
   "metadata": {},
   "outputs": [
    {
     "data": {
      "text/plain": [
       "<BarContainer object of 8 artists>"
      ]
     },
     "execution_count": 9,
     "metadata": {},
     "output_type": "execute_result"
    },
    {
     "data": {
      "image/png": "[encoded data removed]",
      "text/plain": [
       "<Figure size 432x288 with 1 Axes>"
      ]
     },
     "metadata": {
      "needs_background": "light"
     },
     "output_type": "display_data"
    }
   ],
   "source": [
    "final.timestamp = pd.to_datetime(final.timestamp)\n",
    "final['Year'] = final['timestamp'].apply(lambda x: '{year}'.format(year=x.year))\n",
    "# final.groupby('YearMonth')\n",
    "\n",
    "year_counts = final.value_counts(subset=['Year']).rename_axis('unique_values').reset_index(name='counts')\n",
    "year_counts = year_counts.sort_values(by=\"unique_values\")\n",
    "\n",
    "\n",
    "x = year_counts.unique_values\n",
    "y = year_counts.counts\n",
    "\n",
    "\n",
    "plt.xticks(rotation=90) \n",
    "plt.bar(x, y, tick_label = x, \n",
    "        width = 0.6, color = [ 'green'])"
   ]
  }
 ],
 "metadata": {
  "kernelspec": {
   "display_name": "Python 3",
   "language": "python",
   "name": "python3"
  },
  "language_info": {
   "codemirror_mode": {
    "name": "ipython",
    "version": 3
   },
   "file_extension": ".py",
   "mimetype": "text/x-python",
   "name": "python",
   "nbconvert_exporter": "python",
   "pygments_lexer": "ipython3",
   "version": "3.8.5"
  }
 },
 "nbformat": 4,
 "nbformat_minor": 4
}
